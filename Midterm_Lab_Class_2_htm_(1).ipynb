{
  "nbformat": 4,
  "nbformat_minor": 0,
  "metadata": {
    "colab": {
      "name": "Midterm_Lab_Class_2_htm (1).ipynb",
      "provenance": [],
      "collapsed_sections": [],
      "include_colab_link": true
    },
    "kernelspec": {
      "name": "python3",
      "display_name": "Python 3"
    },
    "language_info": {
      "name": "python"
    }
  },
  "cells": [
    {
      "cell_type": "markdown",
      "metadata": {
        "id": "view-in-github",
        "colab_type": "text"
      },
      "source": [
        "<a href=\"https://colab.research.google.com/github/kkj815/DAP/blob/main/Midterm_Lab_Class_2_htm_(1).ipynb\" target=\"_parent\"><img src=\"https://colab.research.google.com/assets/colab-badge.svg\" alt=\"Open In Colab\"/></a>"
      ]
    },
    {
      "cell_type": "markdown",
      "metadata": {
        "id": "7RWmIBHy8ktG"
      },
      "source": [
        "# Midterm Examination - Lab Session\n",
        "### Data Analysis Programming - 4471017\n",
        "##### Kangwon National University\n",
        "##### 15. Oct. 2021.\n",
        "---\n",
        "| Problem | Score |\n",
        "|---------|-------|\n",
        "| 1       |(&emsp;&emsp;) / 50    |\n",
        "| 2       |(&emsp;&emsp;) / 50    |\n",
        "| Total   |(&emsp;&emsp;) / 100    |\n",
        "\n",
        "---\n",
        "* This examination contains **two problems**.\n",
        "\n",
        "* You have **45 minutes** to complete the examination.\n",
        "\n",
        "* You may use two (2) double-sided 8.5\"\\,$\\times$\\,11\" pages with notes that you have prepared. You are allow to use internet. *However, communicating or sharing a code with other students are prohibited.* If so, **F** grade will be given according to the rules of Kangwon National University.\n",
        "        \n",
        "* You should make a directory named with your ID and name **(e.g., 202011111\\_홍길동/)** and save all the files. If format is wrong, there will be degraded on overall score.\n",
        "\n",
        "* You should copy the directory to **TA's USB**. Please confirm that all the files are successfully copied.\n",
        "\n",
        "* No need to consider colors.\n",
        "---"
      ]
    },
    {
      "cell_type": "markdown",
      "metadata": {
        "id": "daIgkvYdDI1t"
      },
      "source": [
        "# Load Packages"
      ]
    },
    {
      "cell_type": "code",
      "metadata": {
        "id": "FQbMm3OyDGoB"
      },
      "source": [
        "import numpy as np\n",
        "import pandas as pd\n",
        "\n",
        "import matplotlib.pyplot as plt\n",
        "import seaborn as sns"
      ],
      "execution_count": null,
      "outputs": []
    },
    {
      "cell_type": "markdown",
      "metadata": {
        "id": "DT74wD-VGLMr"
      },
      "source": [
        "# Load Dataset"
      ]
    },
    {
      "cell_type": "code",
      "metadata": {
        "colab": {
          "base_uri": "https://localhost:8080/",
          "height": 235
        },
        "id": "dmN0nfmQGKGw",
        "outputId": "b60745dc-60bb-4c11-b9a9-0e7185e92e64"
      },
      "source": [
        "# data Cars93\n",
        "data = pd.read_csv('https://raw.githubusercontent.com/Kaushik-Varma/Marketing_Data_Analysis/master/Marketing_Analysis.csv',\n",
        "                   header=2).set_index('customerid').sample(n=500, random_state=0)\n",
        "\n",
        "# Extract job  & Education in newly from \"jobedu\" column.\n",
        "data['job']= data[\"jobedu\"].apply(lambda x: x.split(\",\")[0])\n",
        "data['education']= data[\"jobedu\"].apply(lambda x: x.split(\",\")[1])\n",
        "\n",
        "# Drop the \"jobedu\" column from the dataframe.\n",
        "data.drop('jobedu', axis = 1, inplace = True)\n",
        "\n",
        "# Column-wise filtration\n",
        "selectedAttritbute = ['age',\t'salary',\t'balance',\t'marital',\t'targeted',\t'job',\t'education']\n",
        "data = data[selectedAttritbute]\n",
        "\n",
        "data.head()"
      ],
      "execution_count": null,
      "outputs": [
        {
          "output_type": "execute_result",
          "data": {
            "text/html": [
              "<div>\n",
              "<style scoped>\n",
              "    .dataframe tbody tr th:only-of-type {\n",
              "        vertical-align: middle;\n",
              "    }\n",
              "\n",
              "    .dataframe tbody tr th {\n",
              "        vertical-align: top;\n",
              "    }\n",
              "\n",
              "    .dataframe thead th {\n",
              "        text-align: right;\n",
              "    }\n",
              "</style>\n",
              "<table border=\"1\" class=\"dataframe\">\n",
              "  <thead>\n",
              "    <tr style=\"text-align: right;\">\n",
              "      <th></th>\n",
              "      <th>age</th>\n",
              "      <th>salary</th>\n",
              "      <th>balance</th>\n",
              "      <th>marital</th>\n",
              "      <th>targeted</th>\n",
              "      <th>job</th>\n",
              "      <th>education</th>\n",
              "    </tr>\n",
              "    <tr>\n",
              "      <th>customerid</th>\n",
              "      <th></th>\n",
              "      <th></th>\n",
              "      <th></th>\n",
              "      <th></th>\n",
              "      <th></th>\n",
              "      <th></th>\n",
              "      <th></th>\n",
              "    </tr>\n",
              "  </thead>\n",
              "  <tbody>\n",
              "    <tr>\n",
              "      <th>14002</th>\n",
              "      <td>37.0</td>\n",
              "      <td>100000</td>\n",
              "      <td>1403</td>\n",
              "      <td>married</td>\n",
              "      <td>yes</td>\n",
              "      <td>management</td>\n",
              "      <td>tertiary</td>\n",
              "    </tr>\n",
              "    <tr>\n",
              "      <th>32047</th>\n",
              "      <td>36.0</td>\n",
              "      <td>70000</td>\n",
              "      <td>-253</td>\n",
              "      <td>single</td>\n",
              "      <td>yes</td>\n",
              "      <td>services</td>\n",
              "      <td>secondary</td>\n",
              "    </tr>\n",
              "    <tr>\n",
              "      <th>13319</th>\n",
              "      <td>47.0</td>\n",
              "      <td>20000</td>\n",
              "      <td>-406</td>\n",
              "      <td>married</td>\n",
              "      <td>yes</td>\n",
              "      <td>blue-collar</td>\n",
              "      <td>primary</td>\n",
              "    </tr>\n",
              "    <tr>\n",
              "      <th>42992</th>\n",
              "      <td>57.0</td>\n",
              "      <td>16000</td>\n",
              "      <td>501</td>\n",
              "      <td>married</td>\n",
              "      <td>yes</td>\n",
              "      <td>housemaid</td>\n",
              "      <td>primary</td>\n",
              "    </tr>\n",
              "    <tr>\n",
              "      <th>14238</th>\n",
              "      <td>33.0</td>\n",
              "      <td>20000</td>\n",
              "      <td>-406</td>\n",
              "      <td>married</td>\n",
              "      <td>yes</td>\n",
              "      <td>blue-collar</td>\n",
              "      <td>secondary</td>\n",
              "    </tr>\n",
              "  </tbody>\n",
              "</table>\n",
              "</div>"
            ],
            "text/plain": [
              "             age  salary  balance  marital targeted          job  education\n",
              "customerid                                                                 \n",
              "14002       37.0  100000     1403  married      yes   management   tertiary\n",
              "32047       36.0   70000     -253   single      yes     services  secondary\n",
              "13319       47.0   20000     -406  married      yes  blue-collar    primary\n",
              "42992       57.0   16000      501  married      yes    housemaid    primary\n",
              "14238       33.0   20000     -406  married      yes  blue-collar  secondary"
            ]
          },
          "metadata": {},
          "execution_count": 2
        }
      ]
    },
    {
      "cell_type": "markdown",
      "metadata": {
        "id": "6C4A5MKDAJ7i"
      },
      "source": [
        "# Problem 1. Statics and Data Visualization"
      ]
    },
    {
      "cell_type": "markdown",
      "metadata": {
        "id": "eAZ_ZEusEXWr"
      },
      "source": [
        "## 1-1. Plot the kernel density estimate (KDE) plot of `salary` in condition of `education`. [15 pts]\n",
        "- Use `kdeplot` of Seaborn"
      ]
    },
    {
      "cell_type": "code",
      "metadata": {
        "colab": {
          "base_uri": "https://localhost:8080/",
          "height": 308
        },
        "id": "C3dCTD1QDGWq",
        "outputId": "c0805039-1cea-4d5e-e370-ba4f739eeabb"
      },
      "source": [
        "sns.kdeplot(data = data, x = \"salary\", hue = \"education\")\n",
        "plt.show"
      ],
      "execution_count": null,
      "outputs": [
        {
          "output_type": "execute_result",
          "data": {
            "text/plain": [
              "<function matplotlib.pyplot.show>"
            ]
          },
          "metadata": {},
          "execution_count": 6
        },
        {
          "output_type": "display_data",
          "data": {
            "image/png": "[encoded data removed]",
            "text/plain": [
              "<Figure size 432x288 with 1 Axes>"
            ]
          },
          "metadata": {
            "needs_background": "light"
          }
        }
      ]
    },
    {
      "cell_type": "markdown",
      "metadata": {
        "id": "JKaaEDCTJRRF"
      },
      "source": [
        "# 1-2. Plot the pair plot for numerical variables. [35 points]\n",
        "* [15 pts] 아래 완성된 그림을 참조하여 `marital` 상태에 따라 3개의 그룹을 나누어진 여섯 개의 `targeted`과 `salary`의 관계를 나타내고 있는 boxplot을 그리시오. (Referring to the completed figure below, draw a boxplot showing the relationship between six `targeted` and `salary`, divided into three groups according to `marital` status.) \n",
        "* [20 pts] `targeted`에 따른 `salary`의 차이가 존재하는 지 여부를 two-sample t-test를 통해 통계검정을 진행한 뒤 도출된 p-value를 각각의 axes에 출력시키시오. (After performing a statistical test through a two-sample t-test to see whether there is a difference in `salary` depending on the `targeted`, print the derived p-value on each axes.)"
      ]
    },
    {
      "cell_type": "code",
      "metadata": {
        "colab": {
          "base_uri": "https://localhost:8080/",
          "height": 811
        },
        "id": "RP5Yg8hOJgXP",
        "outputId": "0465bd21-931f-4f6d-f09d-29f66702fb86"
      },
      "source": [
        "from scipy.stats import ttest_ind\n",
        "\n",
        "# Draw boxplots\n",
        "fig, ax = plt.subplots(figsize=(9,6))\n",
        "married = data[data['marital'] == 'married']\n",
        "sns.boxplot(married, x = \"targeted\", y = \"salary\", data = data)\n",
        "plt.show()\n",
        "\n",
        "# Perform test and add text\n",
        "\n",
        "\n",
        "\n",
        "\n",
        "\n",
        "\n",
        "\n"
      ],
      "execution_count": null,
      "outputs": [
        {
          "output_type": "stream",
          "name": "stderr",
          "text": [
            "/usr/local/lib/python3.7/dist-packages/seaborn/_decorators.py:43: FutureWarning: Pass the following variable as a keyword arg: x. From version 0.12, the only valid positional argument will be `data`, and passing other arguments without an explicit keyword will result in an error or misinterpretation.\n",
            "  FutureWarning\n"
          ]
        },
        {
          "output_type": "error",
          "ename": "ValueError",
          "evalue": "ignored",
          "traceback": [
            "\u001b[0;31m---------------------------------------------------------------------------\u001b[0m",
            "\u001b[0;31mValueError\u001b[0m                                Traceback (most recent call last)",
            "\u001b[0;32m<ipython-input-40-5e8e4ab4f3d2>\u001b[0m in \u001b[0;36m<module>\u001b[0;34m()\u001b[0m\n\u001b[1;32m      4\u001b[0m \u001b[0mfig\u001b[0m\u001b[0;34m,\u001b[0m \u001b[0max\u001b[0m \u001b[0;34m=\u001b[0m \u001b[0mplt\u001b[0m\u001b[0;34m.\u001b[0m\u001b[0msubplots\u001b[0m\u001b[0;34m(\u001b[0m\u001b[0mfigsize\u001b[0m\u001b[0;34m=\u001b[0m\u001b[0;34m(\u001b[0m\u001b[0;36m9\u001b[0m\u001b[0;34m,\u001b[0m\u001b[0;36m6\u001b[0m\u001b[0;34m)\u001b[0m\u001b[0;34m)\u001b[0m\u001b[0;34m\u001b[0m\u001b[0;34m\u001b[0m\u001b[0m\n\u001b[1;32m      5\u001b[0m \u001b[0mmarried\u001b[0m \u001b[0;34m=\u001b[0m \u001b[0mdata\u001b[0m\u001b[0;34m[\u001b[0m\u001b[0mdata\u001b[0m\u001b[0;34m[\u001b[0m\u001b[0;34m'marital'\u001b[0m\u001b[0;34m]\u001b[0m \u001b[0;34m==\u001b[0m \u001b[0;34m'married'\u001b[0m\u001b[0;34m]\u001b[0m\u001b[0;34m\u001b[0m\u001b[0;34m\u001b[0m\u001b[0m\n\u001b[0;32m----> 6\u001b[0;31m \u001b[0msns\u001b[0m\u001b[0;34m.\u001b[0m\u001b[0mboxplot\u001b[0m\u001b[0;34m(\u001b[0m\u001b[0mmarried\u001b[0m\u001b[0;34m,\u001b[0m \u001b[0mx\u001b[0m \u001b[0;34m=\u001b[0m \u001b[0;34m\"targeted\"\u001b[0m\u001b[0;34m,\u001b[0m \u001b[0my\u001b[0m \u001b[0;34m=\u001b[0m \u001b[0;34m\"salary\"\u001b[0m\u001b[0;34m,\u001b[0m \u001b[0mdata\u001b[0m \u001b[0;34m=\u001b[0m \u001b[0mdata\u001b[0m\u001b[0;34m)\u001b[0m\u001b[0;34m\u001b[0m\u001b[0;34m\u001b[0m\u001b[0m\n\u001b[0m\u001b[1;32m      7\u001b[0m \u001b[0mplt\u001b[0m\u001b[0;34m.\u001b[0m\u001b[0mshow\u001b[0m\u001b[0;34m(\u001b[0m\u001b[0;34m)\u001b[0m\u001b[0;34m\u001b[0m\u001b[0;34m\u001b[0m\u001b[0m\n\u001b[1;32m      8\u001b[0m \u001b[0;34m\u001b[0m\u001b[0m\n",
            "\u001b[0;32m/usr/local/lib/python3.7/dist-packages/seaborn/_decorators.py\u001b[0m in \u001b[0;36minner_f\u001b[0;34m(*args, **kwargs)\u001b[0m\n\u001b[1;32m     44\u001b[0m             )\n\u001b[1;32m     45\u001b[0m         \u001b[0mkwargs\u001b[0m\u001b[0;34m.\u001b[0m\u001b[0mupdate\u001b[0m\u001b[0;34m(\u001b[0m\u001b[0;34m{\u001b[0m\u001b[0mk\u001b[0m\u001b[0;34m:\u001b[0m \u001b[0marg\u001b[0m \u001b[0;32mfor\u001b[0m \u001b[0mk\u001b[0m\u001b[0;34m,\u001b[0m \u001b[0marg\u001b[0m \u001b[0;32min\u001b[0m \u001b[0mzip\u001b[0m\u001b[0;34m(\u001b[0m\u001b[0msig\u001b[0m\u001b[0;34m.\u001b[0m\u001b[0mparameters\u001b[0m\u001b[0;34m,\u001b[0m \u001b[0margs\u001b[0m\u001b[0;34m)\u001b[0m\u001b[0;34m}\u001b[0m\u001b[0;34m)\u001b[0m\u001b[0;34m\u001b[0m\u001b[0;34m\u001b[0m\u001b[0m\n\u001b[0;32m---> 46\u001b[0;31m         \u001b[0;32mreturn\u001b[0m \u001b[0mf\u001b[0m\u001b[0;34m(\u001b[0m\u001b[0;34m**\u001b[0m\u001b[0mkwargs\u001b[0m\u001b[0;34m)\u001b[0m\u001b[0;34m\u001b[0m\u001b[0;34m\u001b[0m\u001b[0m\n\u001b[0m\u001b[1;32m     47\u001b[0m     \u001b[0;32mreturn\u001b[0m \u001b[0minner_f\u001b[0m\u001b[0;34m\u001b[0m\u001b[0;34m\u001b[0m\u001b[0m\n\u001b[1;32m     48\u001b[0m \u001b[0;34m\u001b[0m\u001b[0m\n",
            "\u001b[0;32m/usr/local/lib/python3.7/dist-packages/seaborn/categorical.py\u001b[0m in \u001b[0;36mboxplot\u001b[0;34m(x, y, hue, data, order, hue_order, orient, color, palette, saturation, width, dodge, fliersize, linewidth, whis, ax, **kwargs)\u001b[0m\n\u001b[1;32m   2243\u001b[0m     plotter = _BoxPlotter(x, y, hue, data, order, hue_order,\n\u001b[1;32m   2244\u001b[0m                           \u001b[0morient\u001b[0m\u001b[0;34m,\u001b[0m \u001b[0mcolor\u001b[0m\u001b[0;34m,\u001b[0m \u001b[0mpalette\u001b[0m\u001b[0;34m,\u001b[0m \u001b[0msaturation\u001b[0m\u001b[0;34m,\u001b[0m\u001b[0;34m\u001b[0m\u001b[0;34m\u001b[0m\u001b[0m\n\u001b[0;32m-> 2245\u001b[0;31m                           width, dodge, fliersize, linewidth)\n\u001b[0m\u001b[1;32m   2246\u001b[0m \u001b[0;34m\u001b[0m\u001b[0m\n\u001b[1;32m   2247\u001b[0m     \u001b[0;32mif\u001b[0m \u001b[0max\u001b[0m \u001b[0;32mis\u001b[0m \u001b[0;32mNone\u001b[0m\u001b[0;34m:\u001b[0m\u001b[0;34m\u001b[0m\u001b[0;34m\u001b[0m\u001b[0m\n",
            "\u001b[0;32m/usr/local/lib/python3.7/dist-packages/seaborn/categorical.py\u001b[0m in \u001b[0;36m__init__\u001b[0;34m(self, x, y, hue, data, order, hue_order, orient, color, palette, saturation, width, dodge, fliersize, linewidth)\u001b[0m\n\u001b[1;32m    404\u001b[0m                  width, dodge, fliersize, linewidth):\n\u001b[1;32m    405\u001b[0m \u001b[0;34m\u001b[0m\u001b[0m\n\u001b[0;32m--> 406\u001b[0;31m         \u001b[0mself\u001b[0m\u001b[0;34m.\u001b[0m\u001b[0mestablish_variables\u001b[0m\u001b[0;34m(\u001b[0m\u001b[0mx\u001b[0m\u001b[0;34m,\u001b[0m \u001b[0my\u001b[0m\u001b[0;34m,\u001b[0m \u001b[0mhue\u001b[0m\u001b[0;34m,\u001b[0m \u001b[0mdata\u001b[0m\u001b[0;34m,\u001b[0m \u001b[0morient\u001b[0m\u001b[0;34m,\u001b[0m \u001b[0morder\u001b[0m\u001b[0;34m,\u001b[0m \u001b[0mhue_order\u001b[0m\u001b[0;34m)\u001b[0m\u001b[0;34m\u001b[0m\u001b[0;34m\u001b[0m\u001b[0m\n\u001b[0m\u001b[1;32m    407\u001b[0m         \u001b[0mself\u001b[0m\u001b[0;34m.\u001b[0m\u001b[0mestablish_colors\u001b[0m\u001b[0;34m(\u001b[0m\u001b[0mcolor\u001b[0m\u001b[0;34m,\u001b[0m \u001b[0mpalette\u001b[0m\u001b[0;34m,\u001b[0m \u001b[0msaturation\u001b[0m\u001b[0;34m)\u001b[0m\u001b[0;34m\u001b[0m\u001b[0;34m\u001b[0m\u001b[0m\n\u001b[1;32m    408\u001b[0m \u001b[0;34m\u001b[0m\u001b[0m\n",
            "\u001b[0;32m/usr/local/lib/python3.7/dist-packages/seaborn/categorical.py\u001b[0m in \u001b[0;36mestablish_variables\u001b[0;34m(self, x, y, hue, data, orient, order, hue_order, units)\u001b[0m\n\u001b[1;32m    155\u001b[0m             \u001b[0;31m# Figure out the plotting orientation\u001b[0m\u001b[0;34m\u001b[0m\u001b[0;34m\u001b[0m\u001b[0;34m\u001b[0m\u001b[0m\n\u001b[1;32m    156\u001b[0m             orient = infer_orient(\n\u001b[0;32m--> 157\u001b[0;31m                 \u001b[0mx\u001b[0m\u001b[0;34m,\u001b[0m \u001b[0my\u001b[0m\u001b[0;34m,\u001b[0m \u001b[0morient\u001b[0m\u001b[0;34m,\u001b[0m \u001b[0mrequire_numeric\u001b[0m\u001b[0;34m=\u001b[0m\u001b[0mself\u001b[0m\u001b[0;34m.\u001b[0m\u001b[0mrequire_numeric\u001b[0m\u001b[0;34m\u001b[0m\u001b[0;34m\u001b[0m\u001b[0m\n\u001b[0m\u001b[1;32m    158\u001b[0m             )\n\u001b[1;32m    159\u001b[0m \u001b[0;34m\u001b[0m\u001b[0m\n",
            "\u001b[0;32m/usr/local/lib/python3.7/dist-packages/seaborn/_core.py\u001b[0m in \u001b[0;36minfer_orient\u001b[0;34m(x, y, orient, require_numeric)\u001b[0m\n\u001b[1;32m   1309\u001b[0m     \"\"\"\n\u001b[1;32m   1310\u001b[0m \u001b[0;34m\u001b[0m\u001b[0m\n\u001b[0;32m-> 1311\u001b[0;31m     \u001b[0mx_type\u001b[0m \u001b[0;34m=\u001b[0m \u001b[0;32mNone\u001b[0m \u001b[0;32mif\u001b[0m \u001b[0mx\u001b[0m \u001b[0;32mis\u001b[0m \u001b[0;32mNone\u001b[0m \u001b[0;32melse\u001b[0m \u001b[0mvariable_type\u001b[0m\u001b[0;34m(\u001b[0m\u001b[0mx\u001b[0m\u001b[0;34m)\u001b[0m\u001b[0;34m\u001b[0m\u001b[0;34m\u001b[0m\u001b[0m\n\u001b[0m\u001b[1;32m   1312\u001b[0m     \u001b[0my_type\u001b[0m \u001b[0;34m=\u001b[0m \u001b[0;32mNone\u001b[0m \u001b[0;32mif\u001b[0m \u001b[0my\u001b[0m \u001b[0;32mis\u001b[0m \u001b[0;32mNone\u001b[0m \u001b[0;32melse\u001b[0m \u001b[0mvariable_type\u001b[0m\u001b[0;34m(\u001b[0m\u001b[0my\u001b[0m\u001b[0;34m)\u001b[0m\u001b[0;34m\u001b[0m\u001b[0;34m\u001b[0m\u001b[0m\n\u001b[1;32m   1313\u001b[0m \u001b[0;34m\u001b[0m\u001b[0m\n",
            "\u001b[0;32m/usr/local/lib/python3.7/dist-packages/seaborn/_core.py\u001b[0m in \u001b[0;36mvariable_type\u001b[0;34m(vector, boolean_type)\u001b[0m\n\u001b[1;32m   1227\u001b[0m \u001b[0;34m\u001b[0m\u001b[0m\n\u001b[1;32m   1228\u001b[0m     \u001b[0;31m# Special-case all-na data, which is always \"numeric\"\u001b[0m\u001b[0;34m\u001b[0m\u001b[0;34m\u001b[0m\u001b[0;34m\u001b[0m\u001b[0m\n\u001b[0;32m-> 1229\u001b[0;31m     \u001b[0;32mif\u001b[0m \u001b[0mpd\u001b[0m\u001b[0;34m.\u001b[0m\u001b[0misna\u001b[0m\u001b[0;34m(\u001b[0m\u001b[0mvector\u001b[0m\u001b[0;34m)\u001b[0m\u001b[0;34m.\u001b[0m\u001b[0mall\u001b[0m\u001b[0;34m(\u001b[0m\u001b[0;34m)\u001b[0m\u001b[0;34m:\u001b[0m\u001b[0;34m\u001b[0m\u001b[0;34m\u001b[0m\u001b[0m\n\u001b[0m\u001b[1;32m   1230\u001b[0m         \u001b[0;32mreturn\u001b[0m \u001b[0;34m\"numeric\"\u001b[0m\u001b[0;34m\u001b[0m\u001b[0;34m\u001b[0m\u001b[0m\n\u001b[1;32m   1231\u001b[0m \u001b[0;34m\u001b[0m\u001b[0m\n",
            "\u001b[0;32m/usr/local/lib/python3.7/dist-packages/pandas/core/generic.py\u001b[0m in \u001b[0;36m__nonzero__\u001b[0;34m(self)\u001b[0m\n\u001b[1;32m   1328\u001b[0m     \u001b[0;32mdef\u001b[0m \u001b[0m__nonzero__\u001b[0m\u001b[0;34m(\u001b[0m\u001b[0mself\u001b[0m\u001b[0;34m)\u001b[0m\u001b[0;34m:\u001b[0m\u001b[0;34m\u001b[0m\u001b[0;34m\u001b[0m\u001b[0m\n\u001b[1;32m   1329\u001b[0m         raise ValueError(\n\u001b[0;32m-> 1330\u001b[0;31m             \u001b[0;34mf\"The truth value of a {type(self).__name__} is ambiguous. \"\u001b[0m\u001b[0;34m\u001b[0m\u001b[0;34m\u001b[0m\u001b[0m\n\u001b[0m\u001b[1;32m   1331\u001b[0m             \u001b[0;34m\"Use a.empty, a.bool(), a.item(), a.any() or a.all().\"\u001b[0m\u001b[0;34m\u001b[0m\u001b[0;34m\u001b[0m\u001b[0m\n\u001b[1;32m   1332\u001b[0m         )\n",
            "\u001b[0;31mValueError\u001b[0m: The truth value of a Series is ambiguous. Use a.empty, a.bool(), a.item(), a.any() or a.all()."
          ]
        },
        {
          "output_type": "display_data",
          "data": {
            "image/png": "[encoded data removed]",
            "text/plain": [
              "<Figure size 648x432 with 1 Axes>"
            ]
          },
          "metadata": {
            "needs_background": "light"
          }
        }
      ]
    },
    {
      "cell_type": "markdown",
      "metadata": {
        "id": "aXMvhLkxYpF-"
      },
      "source": [
        "# Problem 2. Data Preprocessing [50 Points]"
      ]
    },
    {
      "cell_type": "markdown",
      "metadata": {
        "id": "kY4V5SOLYvRN"
      },
      "source": [
        "## 2-1 Filtering and Encoding [20 Points]\n",
        "* [5 Points] Remove samples with `unknown` `education`. \n",
        "* [5 Points] Encode `marital`, `targeted`, `job` attributes using one-hot encoding.\n",
        "* [10 Points] Encode `education` attribute using ordinal encoding with order of (`primary`, `secondary`, `tertiary`)."
      ]
    },
    {
      "cell_type": "code",
      "metadata": {
        "id": "bmzry94eY6R5"
      },
      "source": [
        "# Remove samples with `unknown` `education`. \n",
        "data.dropna(inplace = True)\n",
        "\n",
        "# Encode using one-hot encoding.\n",
        "\n",
        "\n",
        "# Encode using ordinal encoding\n",
        "\n"
      ],
      "execution_count": null,
      "outputs": []
    },
    {
      "cell_type": "code",
      "metadata": {
        "colab": {
          "base_uri": "https://localhost:8080/",
          "height": 235
        },
        "id": "CCF1IVmMY4R6",
        "outputId": "a98afa9d-dc60-4eb4-afe2-440ff66feb88"
      },
      "source": [
        "data.head()"
      ],
      "execution_count": null,
      "outputs": [
        {
          "output_type": "execute_result",
          "data": {
            "text/html": [
              "<div>\n",
              "<style scoped>\n",
              "    .dataframe tbody tr th:only-of-type {\n",
              "        vertical-align: middle;\n",
              "    }\n",
              "\n",
              "    .dataframe tbody tr th {\n",
              "        vertical-align: top;\n",
              "    }\n",
              "\n",
              "    .dataframe thead th {\n",
              "        text-align: right;\n",
              "    }\n",
              "</style>\n",
              "<table border=\"1\" class=\"dataframe\">\n",
              "  <thead>\n",
              "    <tr style=\"text-align: right;\">\n",
              "      <th></th>\n",
              "      <th>age</th>\n",
              "      <th>salary</th>\n",
              "      <th>balance</th>\n",
              "      <th>marital</th>\n",
              "      <th>targeted</th>\n",
              "      <th>job</th>\n",
              "      <th>education</th>\n",
              "    </tr>\n",
              "    <tr>\n",
              "      <th>customerid</th>\n",
              "      <th></th>\n",
              "      <th></th>\n",
              "      <th></th>\n",
              "      <th></th>\n",
              "      <th></th>\n",
              "      <th></th>\n",
              "      <th></th>\n",
              "    </tr>\n",
              "  </thead>\n",
              "  <tbody>\n",
              "    <tr>\n",
              "      <th>14002</th>\n",
              "      <td>37.0</td>\n",
              "      <td>100000</td>\n",
              "      <td>1403</td>\n",
              "      <td>married</td>\n",
              "      <td>yes</td>\n",
              "      <td>management</td>\n",
              "      <td>tertiary</td>\n",
              "    </tr>\n",
              "    <tr>\n",
              "      <th>32047</th>\n",
              "      <td>36.0</td>\n",
              "      <td>70000</td>\n",
              "      <td>-253</td>\n",
              "      <td>single</td>\n",
              "      <td>yes</td>\n",
              "      <td>services</td>\n",
              "      <td>secondary</td>\n",
              "    </tr>\n",
              "    <tr>\n",
              "      <th>13319</th>\n",
              "      <td>47.0</td>\n",
              "      <td>20000</td>\n",
              "      <td>-406</td>\n",
              "      <td>married</td>\n",
              "      <td>yes</td>\n",
              "      <td>blue-collar</td>\n",
              "      <td>primary</td>\n",
              "    </tr>\n",
              "    <tr>\n",
              "      <th>42992</th>\n",
              "      <td>57.0</td>\n",
              "      <td>16000</td>\n",
              "      <td>501</td>\n",
              "      <td>married</td>\n",
              "      <td>yes</td>\n",
              "      <td>housemaid</td>\n",
              "      <td>primary</td>\n",
              "    </tr>\n",
              "    <tr>\n",
              "      <th>14238</th>\n",
              "      <td>33.0</td>\n",
              "      <td>20000</td>\n",
              "      <td>-406</td>\n",
              "      <td>married</td>\n",
              "      <td>yes</td>\n",
              "      <td>blue-collar</td>\n",
              "      <td>secondary</td>\n",
              "    </tr>\n",
              "  </tbody>\n",
              "</table>\n",
              "</div>"
            ],
            "text/plain": [
              "             age  salary  balance  marital targeted          job  education\n",
              "customerid                                                                 \n",
              "14002       37.0  100000     1403  married      yes   management   tertiary\n",
              "32047       36.0   70000     -253   single      yes     services  secondary\n",
              "13319       47.0   20000     -406  married      yes  blue-collar    primary\n",
              "42992       57.0   16000      501  married      yes    housemaid    primary\n",
              "14238       33.0   20000     -406  married      yes  blue-collar  secondary"
            ]
          },
          "metadata": {},
          "execution_count": 37
        }
      ]
    },
    {
      "cell_type": "markdown",
      "metadata": {
        "id": "RDVmABMId3A0"
      },
      "source": [
        "# 2-2 Scaling [15 Points]\n",
        "* [10 pts] Apply z-score scaling."
      ]
    },
    {
      "cell_type": "code",
      "metadata": {
        "colab": {
          "base_uri": "https://localhost:8080/",
          "height": 202
        },
        "id": "AKxEOAkedCVo",
        "outputId": "f0b2e1a8-8a17-4137-bbbb-0a7a53295278"
      },
      "source": [
        "from sklearn.preprocessing import StandardScaler\n",
        "\n",
        "# create a scaler object\n",
        "\n",
        "\n",
        "# fit and transform the data\n",
        "\n",
        "\n",
        "dataScale.head()"
      ],
      "execution_count": null,
      "outputs": [
        {
          "output_type": "execute_result",
          "data": {
            "text/html": [
              "<div>\n",
              "<style scoped>\n",
              "    .dataframe tbody tr th:only-of-type {\n",
              "        vertical-align: middle;\n",
              "    }\n",
              "\n",
              "    .dataframe tbody tr th {\n",
              "        vertical-align: top;\n",
              "    }\n",
              "\n",
              "    .dataframe thead th {\n",
              "        text-align: right;\n",
              "    }\n",
              "</style>\n",
              "<table border=\"1\" class=\"dataframe\">\n",
              "  <thead>\n",
              "    <tr style=\"text-align: right;\">\n",
              "      <th></th>\n",
              "      <th>age</th>\n",
              "      <th>salary</th>\n",
              "      <th>balance</th>\n",
              "      <th>education</th>\n",
              "      <th>marital_divorced</th>\n",
              "      <th>marital_married</th>\n",
              "      <th>marital_single</th>\n",
              "      <th>targeted_no</th>\n",
              "      <th>targeted_yes</th>\n",
              "      <th>job_admin.</th>\n",
              "      <th>job_blue-collar</th>\n",
              "      <th>job_entrepreneur</th>\n",
              "      <th>job_housemaid</th>\n",
              "      <th>job_management</th>\n",
              "      <th>job_retired</th>\n",
              "      <th>job_self-employed</th>\n",
              "      <th>job_services</th>\n",
              "      <th>job_student</th>\n",
              "      <th>job_technician</th>\n",
              "      <th>job_unemployed</th>\n",
              "    </tr>\n",
              "  </thead>\n",
              "  <tbody>\n",
              "    <tr>\n",
              "      <th>0</th>\n",
              "      <td>-0.300576</td>\n",
              "      <td>1.362488</td>\n",
              "      <td>0.054466</td>\n",
              "      <td>1.245838</td>\n",
              "      <td>-0.367956</td>\n",
              "      <td>0.833688</td>\n",
              "      <td>-0.640335</td>\n",
              "      <td>-0.400243</td>\n",
              "      <td>0.400243</td>\n",
              "      <td>-0.341793</td>\n",
              "      <td>-0.504572</td>\n",
              "      <td>-0.203456</td>\n",
              "      <td>-0.197814</td>\n",
              "      <td>2.090643</td>\n",
              "      <td>-0.224832</td>\n",
              "      <td>-0.22992</td>\n",
              "      <td>-0.318406</td>\n",
              "      <td>-0.160471</td>\n",
              "      <td>-0.478322</td>\n",
              "      <td>-0.167203</td>\n",
              "    </tr>\n",
              "    <tr>\n",
              "      <th>1</th>\n",
              "      <td>-0.398912</td>\n",
              "      <td>0.414728</td>\n",
              "      <td>-0.602537</td>\n",
              "      <td>-0.265610</td>\n",
              "      <td>-0.367956</td>\n",
              "      <td>-1.199490</td>\n",
              "      <td>1.561681</td>\n",
              "      <td>-0.400243</td>\n",
              "      <td>0.400243</td>\n",
              "      <td>-0.341793</td>\n",
              "      <td>-0.504572</td>\n",
              "      <td>-0.203456</td>\n",
              "      <td>-0.197814</td>\n",
              "      <td>-0.478322</td>\n",
              "      <td>-0.224832</td>\n",
              "      <td>-0.22992</td>\n",
              "      <td>3.140643</td>\n",
              "      <td>-0.160471</td>\n",
              "      <td>-0.478322</td>\n",
              "      <td>-0.167203</td>\n",
              "    </tr>\n",
              "    <tr>\n",
              "      <th>2</th>\n",
              "      <td>0.682789</td>\n",
              "      <td>-1.164873</td>\n",
              "      <td>-0.663239</td>\n",
              "      <td>-1.777058</td>\n",
              "      <td>-0.367956</td>\n",
              "      <td>0.833688</td>\n",
              "      <td>-0.640335</td>\n",
              "      <td>-0.400243</td>\n",
              "      <td>0.400243</td>\n",
              "      <td>-0.341793</td>\n",
              "      <td>1.981877</td>\n",
              "      <td>-0.203456</td>\n",
              "      <td>-0.197814</td>\n",
              "      <td>-0.478322</td>\n",
              "      <td>-0.224832</td>\n",
              "      <td>-0.22992</td>\n",
              "      <td>-0.318406</td>\n",
              "      <td>-0.160471</td>\n",
              "      <td>-0.478322</td>\n",
              "      <td>-0.167203</td>\n",
              "    </tr>\n",
              "    <tr>\n",
              "      <th>3</th>\n",
              "      <td>1.666154</td>\n",
              "      <td>-1.291241</td>\n",
              "      <td>-0.303395</td>\n",
              "      <td>-1.777058</td>\n",
              "      <td>-0.367956</td>\n",
              "      <td>0.833688</td>\n",
              "      <td>-0.640335</td>\n",
              "      <td>-0.400243</td>\n",
              "      <td>0.400243</td>\n",
              "      <td>-0.341793</td>\n",
              "      <td>-0.504572</td>\n",
              "      <td>-0.203456</td>\n",
              "      <td>5.055250</td>\n",
              "      <td>-0.478322</td>\n",
              "      <td>-0.224832</td>\n",
              "      <td>-0.22992</td>\n",
              "      <td>-0.318406</td>\n",
              "      <td>-0.160471</td>\n",
              "      <td>-0.478322</td>\n",
              "      <td>-0.167203</td>\n",
              "    </tr>\n",
              "    <tr>\n",
              "      <th>4</th>\n",
              "      <td>-0.693922</td>\n",
              "      <td>-1.164873</td>\n",
              "      <td>-0.663239</td>\n",
              "      <td>-0.265610</td>\n",
              "      <td>-0.367956</td>\n",
              "      <td>0.833688</td>\n",
              "      <td>-0.640335</td>\n",
              "      <td>-0.400243</td>\n",
              "      <td>0.400243</td>\n",
              "      <td>-0.341793</td>\n",
              "      <td>1.981877</td>\n",
              "      <td>-0.203456</td>\n",
              "      <td>-0.197814</td>\n",
              "      <td>-0.478322</td>\n",
              "      <td>-0.224832</td>\n",
              "      <td>-0.22992</td>\n",
              "      <td>-0.318406</td>\n",
              "      <td>-0.160471</td>\n",
              "      <td>-0.478322</td>\n",
              "      <td>-0.167203</td>\n",
              "    </tr>\n",
              "  </tbody>\n",
              "</table>\n",
              "</div>"
            ],
            "text/plain": [
              "        age    salary   balance  ...  job_student  job_technician  job_unemployed\n",
              "0 -0.300576  1.362488  0.054466  ...    -0.160471       -0.478322       -0.167203\n",
              "1 -0.398912  0.414728 -0.602537  ...    -0.160471       -0.478322       -0.167203\n",
              "2  0.682789 -1.164873 -0.663239  ...    -0.160471       -0.478322       -0.167203\n",
              "3  1.666154 -1.291241 -0.303395  ...    -0.160471       -0.478322       -0.167203\n",
              "4 -0.693922 -1.164873 -0.663239  ...    -0.160471       -0.478322       -0.167203\n",
              "\n",
              "[5 rows x 20 columns]"
            ]
          },
          "metadata": {},
          "execution_count": 7
        }
      ]
    },
    {
      "cell_type": "markdown",
      "metadata": {
        "id": "8tDuZim2ehnQ"
      },
      "source": [
        "# 2-3 kNN imputation [15 Points]\n",
        "* [15 pts] Apply kNN imputation with ten numbers of nearest neighbor."
      ]
    },
    {
      "cell_type": "code",
      "metadata": {
        "colab": {
          "base_uri": "https://localhost:8080/",
          "height": 79
        },
        "id": "eKlGI1OYebWj",
        "outputId": "068ac4ca-6e61-4048-d29a-19b16e8a9afd"
      },
      "source": [
        "index = dataScale['age'].isna()\n",
        "dataScale.loc[index, :]"
      ],
      "execution_count": null,
      "outputs": [
        {
          "output_type": "execute_result",
          "data": {
            "text/html": [
              "<div>\n",
              "<style scoped>\n",
              "    .dataframe tbody tr th:only-of-type {\n",
              "        vertical-align: middle;\n",
              "    }\n",
              "\n",
              "    .dataframe tbody tr th {\n",
              "        vertical-align: top;\n",
              "    }\n",
              "\n",
              "    .dataframe thead th {\n",
              "        text-align: right;\n",
              "    }\n",
              "</style>\n",
              "<table border=\"1\" class=\"dataframe\">\n",
              "  <thead>\n",
              "    <tr style=\"text-align: right;\">\n",
              "      <th></th>\n",
              "      <th>age</th>\n",
              "      <th>salary</th>\n",
              "      <th>balance</th>\n",
              "      <th>education</th>\n",
              "      <th>marital_divorced</th>\n",
              "      <th>marital_married</th>\n",
              "      <th>marital_single</th>\n",
              "      <th>targeted_no</th>\n",
              "      <th>targeted_yes</th>\n",
              "      <th>job_admin.</th>\n",
              "      <th>job_blue-collar</th>\n",
              "      <th>job_entrepreneur</th>\n",
              "      <th>job_housemaid</th>\n",
              "      <th>job_management</th>\n",
              "      <th>job_retired</th>\n",
              "      <th>job_self-employed</th>\n",
              "      <th>job_services</th>\n",
              "      <th>job_student</th>\n",
              "      <th>job_technician</th>\n",
              "      <th>job_unemployed</th>\n",
              "    </tr>\n",
              "  </thead>\n",
              "  <tbody>\n",
              "    <tr>\n",
              "      <th>371</th>\n",
              "      <td>NaN</td>\n",
              "      <td>1.994329</td>\n",
              "      <td>-0.321248</td>\n",
              "      <td>-0.26561</td>\n",
              "      <td>-0.367956</td>\n",
              "      <td>0.833688</td>\n",
              "      <td>-0.640335</td>\n",
              "      <td>-0.400243</td>\n",
              "      <td>0.400243</td>\n",
              "      <td>-0.341793</td>\n",
              "      <td>-0.504572</td>\n",
              "      <td>4.915068</td>\n",
              "      <td>-0.197814</td>\n",
              "      <td>-0.478322</td>\n",
              "      <td>-0.224832</td>\n",
              "      <td>-0.22992</td>\n",
              "      <td>-0.318406</td>\n",
              "      <td>-0.160471</td>\n",
              "      <td>-0.478322</td>\n",
              "      <td>-0.167203</td>\n",
              "    </tr>\n",
              "  </tbody>\n",
              "</table>\n",
              "</div>"
            ],
            "text/plain": [
              "     age    salary   balance  ...  job_student  job_technician  job_unemployed\n",
              "371  NaN  1.994329 -0.321248  ...    -0.160471       -0.478322       -0.167203\n",
              "\n",
              "[1 rows x 20 columns]"
            ]
          },
          "metadata": {},
          "execution_count": 8
        }
      ]
    },
    {
      "cell_type": "code",
      "metadata": {
        "id": "ffdvbPO-fa5q"
      },
      "source": [
        "from sklearn.impute import KNNImputer\n",
        "\n",
        "# create a imputer object\n",
        "\n",
        "\n",
        "# fit and transform the data\n",
        "\n"
      ],
      "execution_count": null,
      "outputs": []
    },
    {
      "cell_type": "code",
      "metadata": {
        "colab": {
          "base_uri": "https://localhost:8080/",
          "height": 79
        },
        "id": "ScC4cOMtf4ZA",
        "outputId": "ba2bb9c3-8b37-4594-c414-a0956c4657f4"
      },
      "source": [
        "dataImp.loc[index, :]"
      ],
      "execution_count": null,
      "outputs": [
        {
          "output_type": "execute_result",
          "data": {
            "text/html": [
              "<div>\n",
              "<style scoped>\n",
              "    .dataframe tbody tr th:only-of-type {\n",
              "        vertical-align: middle;\n",
              "    }\n",
              "\n",
              "    .dataframe tbody tr th {\n",
              "        vertical-align: top;\n",
              "    }\n",
              "\n",
              "    .dataframe thead th {\n",
              "        text-align: right;\n",
              "    }\n",
              "</style>\n",
              "<table border=\"1\" class=\"dataframe\">\n",
              "  <thead>\n",
              "    <tr style=\"text-align: right;\">\n",
              "      <th></th>\n",
              "      <th>age</th>\n",
              "      <th>salary</th>\n",
              "      <th>balance</th>\n",
              "      <th>education</th>\n",
              "      <th>marital_divorced</th>\n",
              "      <th>marital_married</th>\n",
              "      <th>marital_single</th>\n",
              "      <th>targeted_no</th>\n",
              "      <th>targeted_yes</th>\n",
              "      <th>job_admin.</th>\n",
              "      <th>job_blue-collar</th>\n",
              "      <th>job_entrepreneur</th>\n",
              "      <th>job_housemaid</th>\n",
              "      <th>job_management</th>\n",
              "      <th>job_retired</th>\n",
              "      <th>job_self-employed</th>\n",
              "      <th>job_services</th>\n",
              "      <th>job_student</th>\n",
              "      <th>job_technician</th>\n",
              "      <th>job_unemployed</th>\n",
              "    </tr>\n",
              "  </thead>\n",
              "  <tbody>\n",
              "    <tr>\n",
              "      <th>371</th>\n",
              "      <td>0.161606</td>\n",
              "      <td>1.994329</td>\n",
              "      <td>-0.321248</td>\n",
              "      <td>-0.26561</td>\n",
              "      <td>-0.367956</td>\n",
              "      <td>0.833688</td>\n",
              "      <td>-0.640335</td>\n",
              "      <td>-0.400243</td>\n",
              "      <td>0.400243</td>\n",
              "      <td>-0.341793</td>\n",
              "      <td>-0.504572</td>\n",
              "      <td>4.915068</td>\n",
              "      <td>-0.197814</td>\n",
              "      <td>-0.478322</td>\n",
              "      <td>-0.224832</td>\n",
              "      <td>-0.22992</td>\n",
              "      <td>-0.318406</td>\n",
              "      <td>-0.160471</td>\n",
              "      <td>-0.478322</td>\n",
              "      <td>-0.167203</td>\n",
              "    </tr>\n",
              "  </tbody>\n",
              "</table>\n",
              "</div>"
            ],
            "text/plain": [
              "          age    salary   balance  ...  job_student  job_technician  job_unemployed\n",
              "371  0.161606  1.994329 -0.321248  ...    -0.160471       -0.478322       -0.167203\n",
              "\n",
              "[1 rows x 20 columns]"
            ]
          },
          "metadata": {},
          "execution_count": 10
        }
      ]
    }
  ]
}